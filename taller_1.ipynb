{
  "nbformat": 4,
  "nbformat_minor": 0,
  "metadata": {
    "colab": {
      "provenance": [],
      "authorship_tag": "ABX9TyMn5eXggg+ZD4aQHK3CEqwR",
      "include_colab_link": true
    },
    "kernelspec": {
      "name": "python3",
      "display_name": "Python 3"
    },
    "language_info": {
      "name": "python"
    }
  },
  "cells": [
    {
      "cell_type": "markdown",
      "metadata": {
        "id": "view-in-github",
        "colab_type": "text"
      },
      "source": [
        "<a href=\"https://colab.research.google.com/github/issa04-sand/MATE-APLIACADA-I/blob/main/taller_1.ipynb\" target=\"_parent\"><img src=\"https://colab.research.google.com/assets/colab-badge.svg\" alt=\"Open In Colab\"/></a>"
      ]
    },
    {
      "cell_type": "markdown",
      "source": [
        "**GRUPO**\n",
        "\n",
        "*   Isabella Sandoval Montaño\n",
        "*   Emmanuel Muñoz Bustamante\n",
        "*   Sammuel Rios Rodriguez\n",
        "*   Santiago Horta Diaz\n",
        "\n"
      ],
      "metadata": {
        "id": "ckzjQo3gT64N"
      }
    },
    {
      "cell_type": "markdown",
      "source": [
        "**PUNTO 1**\n",
        "\n",
        "1.   Inicial:  $A = 2\\pi\\boldsymbol{r}\\mathbf{g}$\n",
        "\n",
        "     Final: $\\frac{A}{2\\pi\\mathbf{g}} = \\mathbf{r}$\n",
        "2.   Elemento de lista\n",
        "\n"
      ],
      "metadata": {
        "id": "QPHlMGyVYByZ"
      }
    },
    {
      "cell_type": "markdown",
      "source": [
        "Ejercicio 1"
      ],
      "metadata": {
        "id": "bZl4fyicWn8o"
      }
    },
    {
      "cell_type": "code",
      "source": [
        "exp1 = 3 * (-5 + 10 + (-5)) - 2 * ((-2) + (-4) + 10) ** 2\n",
        "print(\"El resultado de la ecuación es: \", exp1)"
      ],
      "metadata": {
        "id": "lwJHMBK5WlJ-",
        "outputId": "f9e2e6f0-82b5-4ea9-f0b9-b3ff39d94055",
        "colab": {
          "base_uri": "https://localhost:8080/"
        }
      },
      "execution_count": null,
      "outputs": [
        {
          "output_type": "stream",
          "name": "stdout",
          "text": [
            "El resultado de la ecuación es:  -32\n"
          ]
        }
      ]
    },
    {
      "cell_type": "markdown",
      "source": [],
      "metadata": {
        "id": "J5XYsqvJa8Rf"
      }
    }
  ]
}
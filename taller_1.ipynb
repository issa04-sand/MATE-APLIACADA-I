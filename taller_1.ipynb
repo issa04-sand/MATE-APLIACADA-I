{
  "nbformat": 4,
  "nbformat_minor": 0,
  "metadata": {
    "colab": {
      "provenance": [],
      "authorship_tag": "ABX9TyN+W7HUT4tR74nLQw4gl3cz",
      "include_colab_link": true
    },
    "kernelspec": {
      "name": "python3",
      "display_name": "Python 3"
    },
    "language_info": {
      "name": "python"
    }
  },
  "cells": [
    {
      "cell_type": "markdown",
      "metadata": {
        "id": "view-in-github",
        "colab_type": "text"
      },
      "source": [
        "<a href=\"https://colab.research.google.com/github/issa04-sand/MATE-APLIACADA-I/blob/main/taller_1.ipynb\" target=\"_parent\"><img src=\"https://colab.research.google.com/assets/colab-badge.svg\" alt=\"Open In Colab\"/></a>"
      ]
    },
    {
      "cell_type": "markdown",
      "source": [
        "**GRUPO**\n",
        "\n",
        "*   Isabella Sandoval Montaño\n",
        "*   Emmanuel Muñoz Bustamante\n",
        "*   Sammuel Rios Rodriguez\n",
        "*   Santiago Horta Diaz\n",
        "\n"
      ],
      "metadata": {
        "id": "ckzjQo3gT64N"
      }
    },
    {
      "cell_type": "markdown",
      "source": [],
      "metadata": {
        "id": "fIGcEhqhUvzt"
      }
    }
  ]
}
{
  "nbformat": 4,
  "nbformat_minor": 0,
  "metadata": {
    "colab": {
      "provenance": [],
      "authorship_tag": "ABX9TyPKWREegzD+tR+MvX7QEl4I",
      "include_colab_link": true
    },
    "kernelspec": {
      "name": "python3",
      "display_name": "Python 3"
    },
    "language_info": {
      "name": "python"
    }
  },
  "cells": [
    {
      "cell_type": "markdown",
      "metadata": {
        "id": "view-in-github",
        "colab_type": "text"
      },
      "source": [
        "<a href=\"https://colab.research.google.com/github/issa04-sand/MATE-APLIACADA-I/blob/main/taller_1.ipynb\" target=\"_parent\"><img src=\"https://colab.research.google.com/assets/colab-badge.svg\" alt=\"Open In Colab\"/></a>"
      ]
    },
    {
      "cell_type": "markdown",
      "source": [
        "**GRUPO**\n",
        "\n",
        "*   Isabella Sandoval Montaño - A00411190\n",
        "*   Emmanuel Muñoz Bustamante\n",
        "*   Sammuel Rios Rodriguez\n",
        "*   Santiago Horta Diaz\n",
        "\n"
      ],
      "metadata": {
        "id": "ckzjQo3gT64N"
      }
    },
    {
      "cell_type": "markdown",
      "source": [
        "**PUNTO 1**\n",
        "\n",
        "1.   Área lateral de un cilindro\n",
        "\n",
        "Inicial:  $A = 2\\pi\\boldsymbol{r}\\mathbf{g}$\n",
        "\n",
        "Final:\n",
        "$\\frac{A}{2\\pi\\mathbf{g}} = \\mathbf{r}$\n",
        "\n",
        "\n",
        "2. Volumen del cono\n",
        "\n",
        "Inicial: $\\nu =\\frac{A_{B}\\cdot h }{3}$\n",
        "\n",
        "Final: $\\frac{3\\textbf{V}}{A_{B}} = h$\n",
        "\n",
        "\n",
        "3. Volumen de la esfera\n",
        "\n",
        "Inical: $V=\\frac43⋅πr^3$\n",
        "\n",
        "Final: $r=\\sqrt[3]\\frac{3V}{4π}$\n",
        "\n",
        "\n",
        "4. Área del trapecio\n",
        "\n",
        "Inicial: $A=\\frac{B + b}{2}\\cdot h$\n",
        "\n",
        "  Final: $h=\\frac{2A}{B + b}$\n",
        "\n",
        "5. Intensidad eléctica\n",
        "\n",
        "Inicial: $I=\\frac qt$\n",
        "\n",
        "Final: $t=\\frac qI$\n",
        "\n",
        "6. Ley de Ohm\n",
        "\n",
        "Inicial: $I=\\frac VR$\n",
        "\n",
        "Final: $R= \\frac VI$\n",
        "\n",
        "7. Energia eléctrica\n",
        "\n",
        "Inicial: $E=\\frac {V^2}{R} ⋅t$\n",
        "\n",
        "Final: $t=\\frac {ER}{V^2}$\n",
        "\n",
        "8. Resistencias en paralelo\n",
        "\n",
        "Inicial: $\\frac{1}{R} = \\frac{1}{R_{1}} = \\frac{1}{R_{2}}$\n",
        "\n",
        "Final: $\\frac{1}{\\frac{1}{R_{1}}+\\frac{1}{R_{2}}} = R$\n",
        "\n",
        "9. Ecuación gases perfectos\n",
        "\n",
        "Inicial: $\\frac{P_{0}V_{0}}{T_{0}} = \\frac{P_{f}V_{f}}{T_{f}}$\n",
        "\n",
        "Final: $ \\frac{T_{f}P_{0}V_{0}}{T_{0}} = P_{f}V_{f}$\n",
        "\n",
        "10. Intensidad eléctrica\n",
        "\n",
        "Inicial: $I= \\frac{v_{A}-v_{B}}{R}$\n",
        "    \n",
        "Final: $V_{B}= -R\\cdot I +V_{A}$\n",
        "\n",
        "\n",
        "\n"
      ],
      "metadata": {
        "id": "QPHlMGyVYByZ"
      }
    },
    {
      "cell_type": "markdown",
      "source": [
        "**PUNTO 2**"
      ],
      "metadata": {
        "id": "bZl4fyicWn8o"
      }
    },
    {
      "cell_type": "code",
      "source": [
        "exe1 = (3 * (-5 + 10 + (-5)) - 2 * ((-2) + (-4) + 10)) ** 2\n",
        "print(\"El resultado de la ecuación es: \", exe1)"
      ],
      "metadata": {
        "id": "lwJHMBK5WlJ-",
        "outputId": "b49dad19-2e9e-4cad-d88c-6148f67fe02c",
        "colab": {
          "base_uri": "https://localhost:8080/"
        }
      },
      "execution_count": null,
      "outputs": [
        {
          "output_type": "stream",
          "name": "stdout",
          "text": [
            "El resultado de la ecuación es:  64\n"
          ]
        }
      ]
    },
    {
      "cell_type": "code",
      "source": [
        "primera_parte = -5 + 10 + (-5)\n",
        "print(f\"paso 1: (-5 + 10 +(-5)) = {-5 + 10 + (-5)}\")\n",
        "\n",
        "primera_multiplicacion = 3 * primera_parte\n",
        "print(f\"paso 2: 3 * {primera_parte} = {primera_multiplicacion}\")\n",
        "\n",
        "segunda_parte = (-2) + (-4) + 10\n",
        "print(f\"paso 3: ((-2) + (-4) + 10 = {segunda_parte}\")\n",
        "\n",
        "segunda_multiplicacion = -2 * segunda_parte\n",
        "print(f\"paso 4: -2 * {segunda_parte} = {segunda_multiplicacion}\")\n",
        "\n",
        "primera_suma = primera_multiplicacion + segunda_multiplicacion\n",
        "print(f\"paso 5: {primera_multiplicacion} + {segunda_multiplicacion} = {primera_suma}\")\n",
        "\n",
        "primera_potencia = primera_suma ** 2\n",
        "print(f\"paso 6: -8 ** 2 = {primera_potencia}\")\n",
        "\n",
        "comprobacion_ecuacion_1= (3*(-5 + 10 + (-5)) - 2*((-2) + (-4) + 10))**2\n",
        "print(f\"El resultado es : \",comprobacion_ecuacion_1)"
      ],
      "metadata": {
        "colab": {
          "base_uri": "https://localhost:8080/"
        },
        "id": "NFNcznYZp_hA",
        "outputId": "23f1d685-7031-48e5-d28b-51d8717e55c3"
      },
      "execution_count": null,
      "outputs": [
        {
          "output_type": "stream",
          "name": "stdout",
          "text": [
            "paso 1: (-5 + 10 +(-5)) = 0\n",
            "paso 2: 3 * 0 = 0\n",
            "paso 3: ((-2) + (-4) + 10 = 4\n",
            "paso 4: -2 * 4 = -8\n",
            "paso 5: 0 + -8 = -8\n",
            "paso 6: -8 ** 2 = 64\n",
            "El resultado es :  64\n"
          ]
        }
      ]
    },
    {
      "cell_type": "code",
      "source": [
        "exer2 = 45 + (3 * (2 + 8) - 8/4) + 10 - 83\n",
        "print(\"El resultado de la ecuación es: \", exer2)"
      ],
      "metadata": {
        "colab": {
          "base_uri": "https://localhost:8080/"
        },
        "id": "F0nKSITxrVz1",
        "outputId": "73924de5-4989-49e8-aba9-f25b64c78daa"
      },
      "execution_count": null,
      "outputs": [
        {
          "output_type": "stream",
          "name": "stdout",
          "text": [
            "El resultado de la ecuación es:  0.0\n"
          ]
        }
      ]
    },
    {
      "cell_type": "code",
      "source": [
        "parte_1 = (2 + 8)\n",
        "print(f\"paso 1: 2 + 8 = {parte_1}\")\n",
        "\n",
        "multiplicacion_1 = 3 * parte_1\n",
        "print(f\"paso 2: 3 + {parte_1} = {multiplicacion_1}\")\n",
        "\n",
        "division_1= 8/4\n",
        "print(f\"paso 3: 8/4 = {division_1}\")\n",
        "\n",
        "resta_1 = multiplicacion_1 - division_1\n",
        "print(f\"paso 4: {multiplicacion_1 - division_1} = {resta_1}\")\n",
        "\n",
        "suma_2 = 45 + resta_1\n",
        "print(f\"paso 5: 45 + {resta_1} = {suma_2}\")\n",
        "\n",
        "suma_3 = suma_2 + 10\n",
        "print(f\"paso 6: {suma_2} + 10 = {suma_3}\")\n",
        "\n",
        "suma_final = suma_3 - 83\n",
        "print(f\"paso 7: {suma_3} - 83 = {suma_final}\")\n",
        "comprobacion_ecuacion_2 = 45 + (3 * (2 + 8) - 8/4) + 10 - 83\n",
        "print(f\"El resultado es : \", comprobacion_ecuacion_2)"
      ],
      "metadata": {
        "colab": {
          "base_uri": "https://localhost:8080/"
        },
        "id": "dhkQbwifr5z7",
        "outputId": "67ed965b-3bc8-49d6-b69c-1be4cd4141c6"
      },
      "execution_count": null,
      "outputs": [
        {
          "output_type": "stream",
          "name": "stdout",
          "text": [
            "paso 1: 2 + 8 = 10\n",
            "paso 2: 3 + 10 = 30\n",
            "paso 3: 8/4 = 2.0\n",
            "paso 4: 28.0 = 28.0\n",
            "paso 5: 45 + 28.0 = 73.0\n",
            "paso 6: 73.0 + 10 = 83.0\n",
            "paso 7: 83.0 - 83 = 0.0\n",
            "El resultado es :  0.0\n"
          ]
        }
      ]
    },
    {
      "cell_type": "code",
      "source": [
        "exer3 = ((-4 + 7) * 2 - 10) * (-4) - 7 - 3\n",
        "print(\"El resultado de la ecuación es: \", exer3)"
      ],
      "metadata": {
        "colab": {
          "base_uri": "https://localhost:8080/"
        },
        "id": "C6wvYNoAsfle",
        "outputId": "42d78956-6f7a-44ba-ee0c-fefcdc32f8ea"
      },
      "execution_count": null,
      "outputs": [
        {
          "output_type": "stream",
          "name": "stdout",
          "text": [
            "El resultado de la ecuación es:  6\n"
          ]
        }
      ]
    },
    {
      "cell_type": "code",
      "source": [
        "part_1 = -4 + 7\n",
        "print(f\"paso 1: -4 + 7 = {part_1}\")\n",
        "\n",
        "multi_1 = part_1 * 2\n",
        "print(f\"paso 2: {part_1} * 2 = {multi_1}\")\n",
        "\n",
        "rest_1 = multi_1 - 10\n",
        "print(f\"paso 3: {multi_1} - 10 = {rest_1}\")\n",
        "\n",
        "part_2 = rest_1 * (-4)\n",
        "print(f\"paso 4: {rest_1} * (-4) = {part_2}\")\n",
        "\n",
        "rest_2 = part_2 - 7\n",
        "print(f\"{part_2} - 7 = {rest_2}\")\n",
        "\n",
        "resultado_fin = rest_2 - 3\n",
        "print(f\"{rest_2} - 3 = {resultado_fin}\")\n",
        "\n",
        "comprobacion_ecuacion_3 = ((-4 + 7)*2 - 10) * (-4)- 7 - 3\n",
        "print(f\"El resultado es : \", comprobacion_ecuacion_3)"
      ],
      "metadata": {
        "colab": {
          "base_uri": "https://localhost:8080/"
        },
        "id": "CvopzwTvtWfy",
        "outputId": "6def307a-9c3b-48e3-ff86-985e4a6fd521"
      },
      "execution_count": null,
      "outputs": [
        {
          "output_type": "stream",
          "name": "stdout",
          "text": [
            "paso 1: -4 + 7 = 3\n",
            "paso 2: 3 * 2 = 6\n",
            "paso 3: 6 - 10 = -4\n",
            "paso 4: -4 * (-4) = 16\n",
            "16 - 7 = 9\n",
            "9 - 3 = 6\n",
            "El resultado es :  6\n"
          ]
        }
      ]
    },
    {
      "cell_type": "markdown",
      "source": [
        "**PUNTO 3**"
      ],
      "metadata": {
        "id": "J5XYsqvJa8Rf"
      }
    },
    {
      "cell_type": "code",
      "source": [
        "exer1 = 1/5*((1/2)**2+(3/4)**2)+10/25*((1/2)**2+(3/4)**2)+8/40*((1/2)**2+(3/4)**2)\n",
        "print(\"El resultado de la operación es: \",exer1)"
      ],
      "metadata": {
        "colab": {
          "base_uri": "https://localhost:8080/"
        },
        "id": "z3gUW9ghfTbj",
        "outputId": "3e259830-425e-44f4-e0de-841b05e58341"
      },
      "execution_count": null,
      "outputs": [
        {
          "output_type": "stream",
          "name": "stdout",
          "text": [
            "El resultado es:  0.65\n"
          ]
        }
      ]
    },
    {
      "cell_type": "code",
      "source": [
        "exer2 = 9/4*((6/8)**-1)-5/2*((25/20)**-1)+40/8*((20/16)**-1)\n",
        "print(\"El resultado de la operación es: \",exer2)"
      ],
      "metadata": {
        "colab": {
          "base_uri": "https://localhost:8080/"
        },
        "id": "jp2nqaP9gAmH",
        "outputId": "609ca7c5-cf0c-458d-8ccd-6562293d9587"
      },
      "execution_count": null,
      "outputs": [
        {
          "output_type": "stream",
          "name": "stdout",
          "text": [
            "El resultado de la operación es:  5.0\n"
          ]
        }
      ]
    },
    {
      "cell_type": "markdown",
      "source": [
        "**PUNTO 4**"
      ],
      "metadata": {
        "id": "bNZUXWGgt709"
      }
    },
    {
      "cell_type": "code",
      "source": [
        "nombre = str(input(\"Ingrese su nombre: \"))\n",
        "peso= float(input(\"Ingresa tu peso: \"))\n",
        "talla= float(input(\"Ingrese su talla en metros: \"))\n",
        "\n",
        "imc= float(peso/(talla**2))\n",
        "\n",
        "if imc < 18.5:\n",
        "    print(\"Clasificación: Bajo en peso\")\n",
        "elif 18.5 <= imc < 24.9:\n",
        "    print(\"Clasificación: Peso normal\")\n",
        "elif 25 <= imc < 29.9:\n",
        "    print(\"Clasificación: Sobrepeso\")\n",
        "else:\n",
        "    print(\"Clasificación: Obesidad\")"
      ],
      "metadata": {
        "colab": {
          "base_uri": "https://localhost:8080/"
        },
        "id": "5AJIIeqrt_zR",
        "outputId": "08415bb4-0312-4855-f500-01d04f1a5be0"
      },
      "execution_count": null,
      "outputs": [
        {
          "output_type": "stream",
          "name": "stdout",
          "text": [
            "Ingrese su nombre: isabella\n",
            "Ingresa tu peso: 56\n",
            "Ingrese su talla en metros: 1.55\n",
            "Clasificación: Peso normal\n"
          ]
        }
      ]
    },
    {
      "cell_type": "markdown",
      "source": [
        "**PUNTO 5**"
      ],
      "metadata": {
        "id": "oM8eO4Hnui60"
      }
    },
    {
      "cell_type": "code",
      "source": [
        "num_uno = float(input(\"Ingrese un numero: \"))\n",
        "num_dos= float(input(\"Ingrese el segundo numero: \"))\n",
        "\n",
        "suma= num_uno + num_dos\n",
        "resta = num_uno - num_dos\n",
        "producto = num_uno * num_dos\n",
        "cociente = num_uno / num_dos\n",
        "\n",
        "print(f\"La suma de los dos numeros es: {suma}\")\n",
        "print(f\"La resta es: {resta}\")\n",
        "print(f\"El producto es: {producto}\")\n",
        "print(f\"El cociente es: {cociente}\")"
      ],
      "metadata": {
        "colab": {
          "base_uri": "https://localhost:8080/"
        },
        "id": "FgLSVCrRulsd",
        "outputId": "0eb54018-ecf0-4fc0-e01a-f83cfc99c9ef"
      },
      "execution_count": null,
      "outputs": [
        {
          "output_type": "stream",
          "name": "stdout",
          "text": [
            "Ingrese un numero: 5\n",
            "Ingrese el segundo numero: 3\n",
            "La suma de los dos numeros es: 8.0\n",
            "La resta es: 2.0\n",
            "El producto es: 15.0\n",
            "El cociente es: 1.6666666666666667\n"
          ]
        }
      ]
    },
    {
      "cell_type": "markdown",
      "source": [
        "**PUNTO 6**"
      ],
      "metadata": {
        "id": "Xq_B3kfBvLVQ"
      }
    },
    {
      "cell_type": "code",
      "source": [
        "precios_Petroleo = []\n",
        "\n",
        "for i in range (0,7, 1):\n",
        "    newPrice = float(input(f\"Ingrese el precio del petroleo para el día {i + 1}: \"))\n",
        "    precios_Petroleo.append(newPrice)\n",
        "\n",
        "CocacolaLitro = float(input(\"Ingrese el precio de un litro de Coca-Cola: \"))\n",
        "\n",
        "precioCocacola_porbarril = 158.987 * CocacolaLitro #1 barril = 158.987\n",
        "\n",
        "precio_promedio_petroleo = sum(precios_Petroleo) / len(precios_Petroleo)\n",
        "\n",
        "\n",
        "relacion_precios = [(precio_petroleo, precioCocacola_porbarril) for precio_petroleo in precios_Petroleo]\n",
        "\n",
        "conclusiones = (\n",
        "    \"En los últimos 7 días, el precio del barril de petróleo ha mostrado una tendencia en la cual, \"\n",
        "    \"con un precio promedio de aproximadamente ${:.2f}. Por otro lado, el precio de un barril de Coca-Cola \"\n",
        "    \"es de ${:.2f}. Esto sugiere que el costo de un barril de petróleo es significativamente más alto que \"\n",
        "    \"el de un barril de Coca-Cola, lo que refleja la diferencia del valor de estos productos \"\n",
        "    \"en el mercado.\"\n",
        ").format(precio_promedio_petroleo, precioCocacola_porbarril)\n",
        "\n",
        "# Imprimir resultados\n",
        "print(\"Precios del barril de petróleo:\", precios_Petroleo)\n",
        "print(\"Precio de un barril de Coca-Cola:\", precioCocacola_porbarril)\n",
        "print(\"Relación de precios (Petróleo vs Coca-Cola):\", relacion_precios)\n",
        "print(\"Conclusiones:\", conclusiones)\n",
        "\n",
        "\n",
        "\n",
        "\n"
      ],
      "metadata": {
        "colab": {
          "base_uri": "https://localhost:8080/"
        },
        "id": "JnoIkv56vO-P",
        "outputId": "863aec32-1a20-487e-e0f0-375a35b85338"
      },
      "execution_count": null,
      "outputs": [
        {
          "output_type": "stream",
          "name": "stdout",
          "text": [
            "Ingrese el precio del petroleo para el día 1: 23000\n",
            "Ingrese el precio del petroleo para el día 2: 25.000\n",
            "Ingrese el precio del petroleo para el día 3: 40.000\n",
            "Ingrese el precio del petroleo para el día 4: 42.000\n",
            "Ingrese el precio del petroleo para el día 5: 45.000\n",
            "Ingrese el precio del petroleo para el día 6: 48.000\n",
            "Ingrese el precio del petroleo para el día 7: 50.000\n",
            "Ingrese el precio de un litro de Coca-Cola: 6000\n",
            "Precios del barril de petróleo: [23000.0, 25.0, 40.0, 42.0, 45.0, 48.0, 50.0]\n",
            "Precio de un barril de Coca-Cola: 953922.0\n",
            "Relación de precios (Petróleo vs Coca-Cola): [(23000.0, 953922.0), (25.0, 953922.0), (40.0, 953922.0), (42.0, 953922.0), (45.0, 953922.0), (48.0, 953922.0), (50.0, 953922.0)]\n",
            "Conclusiones: En los últimos 7 días, el precio del barril de petróleo ha mostrado una tendencia a la baja, con un precio promedio de aproximadamente $3321.43. Por otro lado, el precio de un barril de Coca-Cola es de $953922.00. Esto sugiere que el costo de un barril de petróleo es significativamente más alto que el de un barril de Coca-Cola, lo que refleja la diferencia en la naturaleza y el valor de estos productos en el mercado.\n"
          ]
        }
      ]
    }
  ]
}
{
  "nbformat": 4,
  "nbformat_minor": 0,
  "metadata": {
    "colab": {
      "provenance": [],
      "authorship_tag": "ABX9TyMxFoazwjRwG5YgN01W/Jff",
      "include_colab_link": true
    },
    "kernelspec": {
      "name": "python3",
      "display_name": "Python 3"
    },
    "language_info": {
      "name": "python"
    }
  },
  "cells": [
    {
      "cell_type": "markdown",
      "metadata": {
        "id": "view-in-github",
        "colab_type": "text"
      },
      "source": [
        "<a href=\"https://colab.research.google.com/github/issa04-sand/MATE-APLIACADA-I/blob/main/taller_1.ipynb\" target=\"_parent\"><img src=\"https://colab.research.google.com/assets/colab-badge.svg\" alt=\"Open In Colab\"/></a>"
      ]
    },
    {
      "cell_type": "markdown",
      "source": [
        "**GRUPO**\n",
        "\n",
        "*   Isabella Sandoval Montaño\n",
        "*   Emmanuel Muñoz Bustamante\n",
        "*   Sammuel Rios Rodriguez\n",
        "*   Santiago Horta Diaz\n",
        "\n"
      ],
      "metadata": {
        "id": "ckzjQo3gT64N"
      }
    },
    {
      "cell_type": "markdown",
      "source": [
        "**PUNTO 1**\n",
        "\n",
        "1.   Inicial:  $A = 2\\pi\\boldsymbol{r}\\mathbf{g}$\n",
        "\n",
        "     Final:\n",
        "$\\frac{A}{2\\pi\\mathbf{g}} = \\mathbf{r}$\n",
        "\n",
        "2.   Inicial: $\\nu =\\frac{A_{B}\\cdot h }{3}$\n",
        "\n",
        "     Final: $\\frac{3\\textbf{V}}{A_{B}} = h$\n",
        "\n",
        "9. Inicial: $\\frac{P_{0}V_{0}}{T_{0}} = \\frac{P_{f}V_{f}}{T_{f}}$\n",
        "   Final:\n",
        "   \n",
        "10. Inicial: $I= \\frac{v_{A}-v_{B}}{R}$\n",
        "    \n",
        "    Final: $V_{B}= -R\\cdot I +V_{A}$\n",
        "\n",
        "\n",
        "\n"
      ],
      "metadata": {
        "id": "QPHlMGyVYByZ"
      }
    },
    {
      "cell_type": "markdown",
      "source": [
        "9. Inicial: $\\frac{P_{0}V_{0}}{T_{0}} = \\frac{P_{f}V_{f}}{T_{f}}$\n",
        "\n",
        "   Final:\n",
        "   \n",
        "10. Inicial: $I= \\frac{v_{A}-v_{B}}{R}$\n",
        "    \n",
        "    Final: $V_{B}= -R\\cdot I +V_{A}$\n"
      ],
      "metadata": {
        "id": "DMHPXaWbmWWd"
      }
    },
    {
      "cell_type": "markdown",
      "source": [
        "**PUNTO 2**"
      ],
      "metadata": {
        "id": "bZl4fyicWn8o"
      }
    },
    {
      "cell_type": "code",
      "source": [
        "exp1 = 3 * (-5 + 10 + (-5)) - 2 * ((-2) + (-4) + 10) ** 2\n",
        "print(\"El resultado de la ecuación es: \", exp1)"
      ],
      "metadata": {
        "id": "lwJHMBK5WlJ-",
        "outputId": "f9e2e6f0-82b5-4ea9-f0b9-b3ff39d94055",
        "colab": {
          "base_uri": "https://localhost:8080/"
        }
      },
      "execution_count": null,
      "outputs": [
        {
          "output_type": "stream",
          "name": "stdout",
          "text": [
            "El resultado de la ecuación es:  -32\n"
          ]
        }
      ]
    },
    {
      "cell_type": "markdown",
      "source": [
        "**PUNTO 3**"
      ],
      "metadata": {
        "id": "J5XYsqvJa8Rf"
      }
    },
    {
      "cell_type": "code",
      "source": [
        "exer1 = 1/5*((1/2)**2+(3/4)**2)+10/25*((1/2)**2+(3/4)**2)+8/40*((1/2)**2+(3/4)**2)\n",
        "print(\"El resultado es: \",exer1)"
      ],
      "metadata": {
        "id": "z3gUW9ghfTbj",
        "outputId": "3e259830-425e-44f4-e0de-841b05e58341",
        "colab": {
          "base_uri": "https://localhost:8080/"
        }
      },
      "execution_count": 9,
      "outputs": [
        {
          "output_type": "stream",
          "name": "stdout",
          "text": [
            "El resultado es:  0.65\n"
          ]
        }
      ]
    },
    {
      "cell_type": "code",
      "source": [
        "exer2 = 9/4*((6/8)**-1)-5/2*((25/20)**-1)+40/8*((20/16)**-1)\n",
        "print(\"El resultado es: \",exer2)"
      ],
      "metadata": {
        "id": "jp2nqaP9gAmH",
        "outputId": "80f5fc48-1e94-406f-a7c3-f50765bb209e",
        "colab": {
          "base_uri": "https://localhost:8080/"
        }
      },
      "execution_count": 10,
      "outputs": [
        {
          "output_type": "stream",
          "name": "stdout",
          "text": [
            "El resultado es:  5.0\n"
          ]
        }
      ]
    }
  ]
}